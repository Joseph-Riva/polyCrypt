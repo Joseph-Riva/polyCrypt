{
 "metadata": {
  "language_info": {
   "codemirror_mode": {
    "name": "ipython",
    "version": 3
   },
   "file_extension": ".py",
   "mimetype": "text/x-python",
   "name": "python",
   "nbconvert_exporter": "python",
   "pygments_lexer": "ipython3",
   "version": "3.7.6"
  },
  "orig_nbformat": 2,
  "kernelspec": {
   "name": "python376jvsc74a57bd0eab5a3598622f129eccb2a0d0736cbd79a9270194eaef04c78279d0e8106b12b",
   "display_name": "Python 3.7.6 64-bit ('base': conda)"
  }
 },
 "nbformat": 4,
 "nbformat_minor": 2,
 "cells": [
  {
   "source": [
    "# Binary Polynomials\n",
    "## Overview\n",
    "The goal of this project was to create a relatively efficient, and easy to use, implementation of binary polynomials over finite fields.\n",
    "\n",
    "## What is a Finite Field?\n",
    "a Finite Field is a set of elements with finite cardinality(a finite number of elements) and the operations of addition, subtraction, division, and multiplication are defined.\n",
    "\n",
    "For Example, \n",
    "The Integers, $Z$, over a prime number, $p$, give the finite field $Z_p$ which contains the elements $\\{0,...,p-1\\}$\n",
    "\n",
    "The general arithmetic in $Z_p$ is generally pretty straight-forward:\n",
    "#### Addition\n",
    "$1+12\\equiv 6\\:mod\\:7$\n",
    "\n",
    "#### Multiplication and Division\n",
    "$4*6=24 \\equiv 3\\:mod\\:7$\n",
    "\n",
    "$4/3 = 4*inverse(3) = 4*5 \\equiv 6\\:mod\\:7$\n",
    "\n",
    "#### Note about Inverses\n",
    "An inverse in $Z_p$ for an element, $x$, is defined as the element,$x^{-1}$, where $x*x^{-1}\\equiv 1\\:mod\\:p$"
   ],
   "cell_type": "markdown",
   "metadata": {}
  },
  {
   "source": [
    "## Extension Fields\n",
    "From the ideas we see above in $Z_p$ we get extension fields. One important one is extension fields of $Z_{2^q}$ especially over the polynomials. \n",
    "\n",
    "### From $Z_p$ to $Z_{2^q}$\n",
    "In $Z_p$ we used a prime modulus to create a finite field, but in the polynomials we need an analogue: an irreducible polynomial or one which can't be factored and is of degree $q$ \n",
    "\n",
    "Finding these irreducible polynomials is a relatively hard, but mostly solved problem. So, I simply created a table of some common ones to be used here. A good table of these can be found here: https://www.hpl.hp.com/techreports/98/HPL-98-135.pdf"
   ],
   "cell_type": "markdown",
   "metadata": {}
  },
  {
   "cell_type": "code",
   "execution_count": null,
   "metadata": {},
   "outputs": [],
   "source": []
  }
 ]
}