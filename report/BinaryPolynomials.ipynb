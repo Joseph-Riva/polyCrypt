{
 "metadata": {
  "language_info": {
   "codemirror_mode": {
    "name": "ipython",
    "version": 3
   },
   "file_extension": ".py",
   "mimetype": "text/x-python",
   "name": "python",
   "nbconvert_exporter": "python",
   "pygments_lexer": "ipython3",
   "version": "3.7.6"
  },
  "orig_nbformat": 2,
  "kernelspec": {
   "name": "python376jvsc74a57bd0eab5a3598622f129eccb2a0d0736cbd79a9270194eaef04c78279d0e8106b12b",
   "display_name": "Python 3.7.6 64-bit ('base': conda)"
  }
 },
 "nbformat": 4,
 "nbformat_minor": 2,
 "cells": [
  {
   "source": [
    "# Binary Polynomials\n",
    "## Overview\n",
    "The goal of this project was to create a relatively efficient, and easy to use, implementation of binary polynomials over finite fields.\n",
    "\n",
    "## What is a Finite Field?\n",
    "a Finite Field is a set of elements with finite cardinality(a finite number of elements) and the operations of addition, subtraction, division, and multiplication are defined.\n",
    "\n",
    "For Example, \n",
    "The Integers, $Z$, over a prime number, $p$, give the finite field $Z_p$ which contains the elements $\\{0,...,p-1\\}$\n",
    "\n",
    "The general arithmetic in $Z_p$ is generally pretty straight-forward:\n",
    "#### Addition\n",
    "$1+12\\equiv 6\\:mod\\:7$\n",
    "\n",
    "#### Multiplication and Division\n",
    "$4*6=24 \\equiv 3\\:mod\\:7$\n",
    "\n",
    "$4/3 = 4*inverse(3) = 4*5 \\equiv 6\\:mod\\:7$\n",
    "\n",
    "#### Note about Inverses\n",
    "An inverse in $Z_p$ for an element, $x$, is defined as the element,$x^{-1}$, where $x*x^{-1}\\equiv 1\\:mod\\:p$"
   ],
   "cell_type": "markdown",
   "metadata": {}
  },
  {
   "source": [
    "## Extension Fields\n",
    "From the ideas we see above in $Z_p$ we get extension fields. One important one is extension fields of $Z_{2^q}$ especially over the polynomials. \n",
    "\n",
    "### From $Z_p$ to $Z_{2^q}$\n",
    "In $Z_p$ we used a prime modulus to create a finite field, but in the polynomials we need an analogue: an irreducible polynomial or one which can't be factored and is of degree $q$ \n",
    "\n",
    "Finding these irreducible polynomials is a relatively hard, but mostly solved problem. So, I simply created a table of some common ones to be used here. A good table of these can be found here: https://www.hpl.hp.com/techreports/98/HPL-98-135.pdf"
   ],
   "cell_type": "markdown",
   "metadata": {}
  },
  {
   "source": [
    "## Binary Polynomials\n",
    "Binary Polynomials are all in extension fields of $Z_2$ \n",
    "\n",
    "Let's take the example of $x+1$ in $F_4$ using the irreducible polynomial $x^2 + x + 1$\n",
    "\n",
    "### Encoding\n",
    "For the sake of efficieny we are going to encode both polynomials as a sequence of bits with the a $1$ at position i representing a coefficient next to the $ith$ term, so we think of a polynomial as $c_n*x^n + ... + c_2*x^2 + c_1*x + c_0*1$ and the corresponding bit string is $c_n, ..., c_2, c_1, c_0$\n",
    "\n",
    "so $x+1$ will become $0b011$\n",
    "\n",
    "### Arithmetic\n",
    "Once these polynomials are encoded as bit strings it allows us to do arithmetic with them in clever ways use a lot of bit manipulation.\n",
    "\n",
    "#### Addition \n",
    "To add two polynomials, $p_1$ and $p_2$, we add their coefficients modulo 2 so add($x+1$,$x$) would equate to:\n",
    "\n",
    "$(1+1\\:mod\\:2)*x + (1+0\\:mod\\:2)*1\\:=\\:0*x + 1*1\\:= 1$ then to make sure we remain in the field we have to take the result, $x$, modulo the irreducible polynomial of the field -> $1\\:mod\\:x^2+x+1\\:=1$ \n",
    "\n",
    "so if we converted $x+1$ and $x$ to the bit strings $0b11$ and $0b010$ respectively. To add these we can use the bitwise xor operation.\n",
    "by xor-ing these we get $0b001$ which encodes the polynomial $1$\n",
    "\n",
    "#### Multiplication\n",
    "We can multiply any $p_1$ and $p_2$ using another binary algorithm.\n"
   ],
   "cell_type": "markdown",
   "metadata": {}
  },
  {
   "cell_type": "code",
   "execution_count": null,
   "metadata": {},
   "outputs": [],
   "source": []
  }
 ]
}